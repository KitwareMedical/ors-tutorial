{
  "cells": [
    {
      "attachments": {},
      "cell_type": "markdown",
      "metadata": {
        "id": "7mvck3j4g7w2"
      },
      "source": [
        "# Medical Image Classification Tutorial with the MedNIST Dataset\n",
        "\n",
        "In this tutorial, we'll demonstrate an end-to-end training and evaluation example of a classification task on the MedNIST dataset:\n",
        "\n",
        "![Example images](image.png)\n",
        "\n",
        "For ease of computation we will do this on a 2D dataset, but the pipeline can also easily generalize to 3D. We will be using [DenseNet](https://arxiv.org/abs/1608.06993), a well-tested convolutional network used in a wide variety of tasks.\n",
        "\n",
        "This tutorial is adapted from the MONAI 2d classification tutorial. The original can be found [here](https://github.com/Project-MONAI/tutorials/blob/main/2d_classification/mednist_tutorial.ipynb).\n",
        "\n",
        "We'll go through the following steps:\n",
        "* Create a dataset for training and testing\n",
        "* Use MONAI transforms to pre-process data\n",
        "* Use the DenseNet121 architecture for classification\n",
        "* Train the model with a standard PyTorch pipeline\n",
        "* Evaluate on a held-out test dataset\n",
        "\n",
        "[![Open In Colab](https://colab.research.google.com/assets/colab-badge.svg)](https://colab.research.google.com/github/vicory/ors-tutorial/blob/master/mednist_tutorial.ipynb)"
      ]
    },
    {
      "cell_type": "markdown",
      "metadata": {
        "id": "r2p-uXCTg7w4"
      },
      "source": [
        "## Setup environment\n",
        "This will install the necessary python packages if they are not already present"
      ]
    },
    {
      "cell_type": "code",
      "execution_count": 18,
      "metadata": {
        "id": "e0rvQWQPg7w5"
      },
      "outputs": [],
      "source": [
        "!python -c \"import monai\" || pip install -q \"monai-weekly[pillow, tqdm]\"\n",
        "!python -c \"import matplotlib\" || pip install -q matplotlib\n",
        "%matplotlib inline"
      ]
    },
    {
      "cell_type": "markdown",
      "metadata": {
        "id": "yY2f7g8qg7w5"
      },
      "source": [
        "## Setup imports\n",
        "Import the packages necessary to load, process, and display the data"
      ]
    },
    {
      "cell_type": "code",
      "execution_count": 19,
      "metadata": {
        "colab": {
          "base_uri": "https://localhost:8080/"
        },
        "id": "haDew1XYg7w6",
        "outputId": "1ebb4df5-0eb1-49e1-e6a1-9972e21ae54a",
        "tags": []
      },
      "outputs": [
        {
          "name": "stdout",
          "output_type": "stream",
          "text": [
            "MONAI version: 1.2.dev2301\n",
            "Numpy version: 1.21.6\n",
            "Pytorch version: 1.13.0+cu116\n",
            "MONAI flags: HAS_EXT = False, USE_COMPILED = False, USE_META_DICT = False\n",
            "MONAI rev id: bd2e08c2ab5130e3ed58f1cdd6b864f98add2c89\n",
            "MONAI __file__: /usr/local/lib/python3.8/dist-packages/monai/__init__.py\n",
            "\n",
            "Optional dependencies:\n",
            "Pytorch Ignite version: NOT INSTALLED or UNKNOWN VERSION.\n",
            "Nibabel version: 3.0.2\n",
            "scikit-image version: 0.18.3\n",
            "Pillow version: 7.1.2\n",
            "Tensorboard version: 2.9.1\n",
            "gdown version: 4.4.0\n",
            "TorchVision version: 0.14.0+cu116\n",
            "tqdm version: 4.64.1\n",
            "lmdb version: 0.99\n",
            "psutil version: 5.4.8\n",
            "pandas version: 1.3.5\n",
            "einops version: NOT INSTALLED or UNKNOWN VERSION.\n",
            "transformers version: NOT INSTALLED or UNKNOWN VERSION.\n",
            "mlflow version: NOT INSTALLED or UNKNOWN VERSION.\n",
            "pynrrd version: NOT INSTALLED or UNKNOWN VERSION.\n",
            "\n",
            "For details about installing the optional dependencies, please visit:\n",
            "    https://docs.monai.io/en/latest/installation.html#installing-the-recommended-dependencies\n",
            "\n"
          ]
        }
      ],
      "source": [
        "# Copyright 2020 MONAI Consortium\n",
        "# Licensed under the Apache License, Version 2.0 (the \"License\");\n",
        "# you may not use this file except in compliance with the License.\n",
        "# You may obtain a copy of the License at\n",
        "#     http://www.apache.org/licenses/LICENSE-2.0\n",
        "# Unless required by applicable law or agreed to in writing, software\n",
        "# distributed under the License is distributed on an \"AS IS\" BASIS,\n",
        "# WITHOUT WARRANTIES OR CONDITIONS OF ANY KIND, either express or implied.\n",
        "# See the License for the specific language governing permissions and\n",
        "# limitations under the License.\n",
        "\n",
        "import os\n",
        "import shutil\n",
        "import tempfile\n",
        "import matplotlib.pyplot as plt\n",
        "import PIL\n",
        "import torch\n",
        "import numpy as np\n",
        "from sklearn.metrics import classification_report\n",
        "\n",
        "from monai.apps import download_and_extract\n",
        "from monai.config import print_config\n",
        "from monai.data import decollate_batch, DataLoader\n",
        "from monai.metrics import ROCAUCMetric\n",
        "from monai.networks.nets import DenseNet121\n",
        "from monai.transforms import (\n",
        "    Activations,\n",
        "    EnsureChannelFirst,\n",
        "    AsDiscrete,\n",
        "    Compose,\n",
        "    LoadImage,\n",
        "    RandFlip,\n",
        "    RandRotate,\n",
        "    RandZoom,\n",
        "    ScaleIntensity,\n",
        ")\n",
        "from monai.utils import set_determinism\n",
        "\n",
        "print_config()"
      ]
    },
    {
      "cell_type": "markdown",
      "metadata": {
        "id": "iI7rrWvjg7w6"
      },
      "source": [
        "# Setup data directory\n",
        "\n",
        "This is the directory where we will download and store the data. \n",
        "\n",
        "You can specify a directory with the `MONAI_DATA_DIRECTORY` environment variable.  \n",
        "If not specified a temporary directory will be used."
      ]
    },
    {
      "cell_type": "code",
      "execution_count": 20,
      "metadata": {
        "colab": {
          "base_uri": "https://localhost:8080/"
        },
        "id": "cn74tqIig7w6",
        "outputId": "5f198104-04c1-4f4d-9cb7-1ae63a3b64a9",
        "tags": []
      },
      "outputs": [
        {
          "name": "stdout",
          "output_type": "stream",
          "text": [
            "/tmp/tmprs10n9j3\n"
          ]
        }
      ],
      "source": [
        "directory = os.environ.get(\"MONAI_DATA_DIRECTORY\")\n",
        "root_dir = tempfile.mkdtemp() if directory is None else directory\n",
        "print(root_dir)"
      ]
    },
    {
      "cell_type": "markdown",
      "metadata": {
        "id": "CF3i907Wg7w7"
      },
      "source": [
        "## Download dataset\n",
        "\n",
        "The MedNIST dataset was gathered from several sets from [TCIA](https://wiki.cancerimagingarchive.net/display/Public/Data+Usage+Policies+and+Restrictions),\n",
        "[the RSNA Bone Age Challenge](http://rsnachallenges.cloudapp.net/competitions/4),\n",
        "and [the NIH Chest X-ray dataset](https://cloud.google.com/healthcare/docs/resources/public-datasets/nih-chest).\n",
        "\n",
        "The dataset is kindly made available by [Dr. Bradley J. Erickson M.D., Ph.D.](https://www.mayo.edu/research/labs/radiology-informatics/overview) (Department of Radiology, Mayo Clinic)\n",
        "under the Creative Commons [CC BY-SA 4.0 license](https://creativecommons.org/licenses/by-sa/4.0/).\n",
        "\n",
        "If you use the MedNIST dataset, please acknowledge the source."
      ]
    },
    {
      "cell_type": "code",
      "execution_count": 21,
      "metadata": {
        "colab": {
          "base_uri": "https://localhost:8080/"
        },
        "id": "RJyLH-sWg7w7",
        "outputId": "d83a2f40-944a-4a57-83a1-457291312883",
        "tags": []
      },
      "outputs": [
        {
          "name": "stderr",
          "output_type": "stream",
          "text": [
            "MedNIST.tar.gz: 59.0MB [00:13, 4.60MB/s]                            "
          ]
        },
        {
          "name": "stdout",
          "output_type": "stream",
          "text": [
            "2023-01-04 16:01:48,923 - INFO - Downloaded: /tmp/tmprs10n9j3/MedNIST.tar.gz\n",
            "2023-01-04 16:01:49,041 - INFO - Verified 'MedNIST.tar.gz', md5: 0bc7306e7427e00ad1c5526a6677552d.\n",
            "2023-01-04 16:01:49,045 - INFO - Writing into directory: /tmp/tmprs10n9j3.\n"
          ]
        },
        {
          "name": "stderr",
          "output_type": "stream",
          "text": [
            "\n"
          ]
        }
      ],
      "source": [
        "resource = \"https://github.com/Project-MONAI/MONAI-extra-test-data/releases/download/0.8.1/MedNIST.tar.gz\"\n",
        "md5 = \"0bc7306e7427e00ad1c5526a6677552d\"\n",
        "\n",
        "compressed_file = os.path.join(root_dir, \"MedNIST.tar.gz\")\n",
        "data_dir = os.path.join(root_dir, \"MedNIST\")\n",
        "if not os.path.exists(data_dir):\n",
        "    download_and_extract(resource, compressed_file, root_dir, md5)"
      ]
    },
    {
      "cell_type": "markdown",
      "metadata": {
        "id": "qjZRoRWEg7w8"
      },
      "source": [
        "## Set deterministic training for reproducibility\n",
        "\n",
        "This sets the seed used for all of the random initializations/etc to allow specific results to be reproduced in the future or by others"
      ]
    },
    {
      "cell_type": "code",
      "execution_count": 22,
      "metadata": {
        "id": "gvua7dqag7w8"
      },
      "outputs": [],
      "source": [
        "set_determinism(seed=0)"
      ]
    },
    {
      "cell_type": "markdown",
      "metadata": {
        "id": "WnqPzZ16g7w8"
      },
      "source": [
        "## Read image filenames from the dataset folders\n",
        "\n",
        "First of all, check the dataset files and show some statistics.  \n",
        "There are 6 folders in the dataset: Hand, AbdomenCT, CXR, ChestCT, BreastMRI, HeadCT,  \n",
        "which are the labels we will use to train our classification model."
      ]
    },
    {
      "cell_type": "code",
      "execution_count": 23,
      "metadata": {
        "colab": {
          "base_uri": "https://localhost:8080/"
        },
        "id": "D3Q4Pl7tg7w8",
        "outputId": "b19fd237-492c-4120-e080-d8ec81dba537",
        "tags": []
      },
      "outputs": [
        {
          "name": "stdout",
          "output_type": "stream",
          "text": [
            "Total image count: 58954\n",
            "Image dimensions: 64 x 64\n",
            "Label names: ['AbdomenCT', 'BreastMRI', 'CXR', 'ChestCT', 'Hand', 'HeadCT']\n",
            "Label counts: [10000, 8954, 10000, 10000, 10000, 10000]\n"
          ]
        }
      ],
      "source": [
        "class_names = sorted(x for x in os.listdir(data_dir)\n",
        "                     if os.path.isdir(os.path.join(data_dir, x)))\n",
        "num_class = len(class_names)\n",
        "image_files = [\n",
        "    [\n",
        "        os.path.join(data_dir, class_names[i], x)\n",
        "        for x in os.listdir(os.path.join(data_dir, class_names[i]))\n",
        "    ]\n",
        "    for i in range(num_class)\n",
        "]\n",
        "num_each = [len(image_files[i]) for i in range(num_class)]\n",
        "image_files_list = []\n",
        "image_class = []\n",
        "for i in range(num_class):\n",
        "    image_files_list.extend(image_files[i])\n",
        "    image_class.extend([i] * num_each[i])\n",
        "num_total = len(image_class)\n",
        "image_width, image_height = PIL.Image.open(image_files_list[0]).size\n",
        "\n",
        "print(f\"Total image count: {num_total}\")\n",
        "print(f\"Image dimensions: {image_width} x {image_height}\")\n",
        "print(f\"Label names: {class_names}\")\n",
        "print(f\"Label counts: {num_each}\")"
      ]
    },
    {
      "cell_type": "markdown",
      "metadata": {
        "id": "lArxox3Vg7w9"
      },
      "source": [
        "## Randomly pick images from the dataset to visualize and check\n",
        "\n",
        "We do this to examine the data, verify that the data isn't corrupt, and that the labels look correct"
      ]
    },
    {
      "cell_type": "code",
      "execution_count": 24,
      "metadata": {
        "colab": {
          "base_uri": "https://localhost:8080/",
          "height": 585
        },
        "id": "RzcqoiASg7w9",
        "outputId": "5b073a4e-d504-4748-eafd-ba290484d599"
      },
      "outputs": [
        {
          "data": {
            "image/png": "[encoded data removed]",
            "text/plain": [
              "<Figure size 576x576 with 9 Axes>"
            ]
          },
          "metadata": {
            "needs_background": "light"
          },
          "output_type": "display_data"
        }
      ],
      "source": [
        "plt.subplots(3, 3, figsize=(8, 8))\n",
        "for i, k in enumerate(np.random.randint(num_total, size=9)):\n",
        "    im = PIL.Image.open(image_files_list[k])\n",
        "    arr = np.array(im)\n",
        "    plt.subplot(3, 3, i + 1)\n",
        "    plt.xlabel(class_names[image_class[k]])\n",
        "    plt.imshow(arr, cmap=\"gray\", vmin=0, vmax=255)\n",
        "plt.tight_layout()\n",
        "plt.show()"
      ]
    },
    {
      "attachments": {},
      "cell_type": "markdown",
      "metadata": {
        "id": "gSSvHUQXg7w9"
      },
      "source": [
        "## Prepare training, validation and test data lists\n",
        "\n",
        "Randomly select 10% of the dataset as validation and 10% as test, leaving 80% of the data for training the model.\n",
        "\n",
        "The validation set is used to evaluate model performance during training and parameter tuning. The test set is a held-out set used to provide an unbiased evaluation of the final model performance."
      ]
    },
    {
      "cell_type": "code",
      "execution_count": 25,
      "metadata": {
        "colab": {
          "base_uri": "https://localhost:8080/"
        },
        "id": "0VRHbvxEg7w-",
        "outputId": "d5cfecd4-abe7-41f8-84b9-080ee7065e35",
        "tags": []
      },
      "outputs": [
        {
          "name": "stdout",
          "output_type": "stream",
          "text": [
            "Training count: 47164, Validation count: 5895, Test count: 5895\n"
          ]
        }
      ],
      "source": [
        "val_frac = 0.1\n",
        "test_frac = 0.1\n",
        "length = len(image_files_list)\n",
        "indices = np.arange(length)\n",
        "np.random.shuffle(indices)\n",
        "\n",
        "test_split = int(test_frac * length)\n",
        "val_split = int(val_frac * length) + test_split\n",
        "test_indices = indices[:test_split]\n",
        "val_indices = indices[test_split:val_split]\n",
        "train_indices = indices[val_split:]\n",
        "\n",
        "train_x = [image_files_list[i] for i in train_indices]\n",
        "train_y = [image_class[i] for i in train_indices]\n",
        "val_x = [image_files_list[i] for i in val_indices]\n",
        "val_y = [image_class[i] for i in val_indices]\n",
        "test_x = [image_files_list[i] for i in test_indices]\n",
        "test_y = [image_class[i] for i in test_indices]\n",
        "\n",
        "print(\n",
        "    f\"Training count: {len(train_x)}, Validation count: \"\n",
        "    f\"{len(val_x)}, Test count: {len(test_x)}\")"
      ]
    },
    {
      "cell_type": "markdown",
      "metadata": {
        "id": "E4P-f1wog7w-"
      },
      "source": [
        "## Define MONAI transforms\n",
        "\n",
        "The transforms include standard normalizations such as rescaling intensities as well as random rotoations, flips, and zooms on the training set for data augmentation."
      ]
    },
    {
      "cell_type": "code",
      "execution_count": 26,
      "metadata": {
        "id": "35PgBI_Xg7w-"
      },
      "outputs": [],
      "source": [
        "train_transforms = Compose(\n",
        "    [\n",
        "        LoadImage(image_only=True),\n",
        "        EnsureChannelFirst(),\n",
        "        ScaleIntensity(),\n",
        "        RandRotate(range_x=np.pi / 12, prob=0.5, keep_size=True),\n",
        "        RandFlip(spatial_axis=0, prob=0.5),\n",
        "        RandZoom(min_zoom=0.9, max_zoom=1.1, prob=0.5),\n",
        "    ]\n",
        ")\n",
        "\n",
        "val_transforms = Compose(\n",
        "    [LoadImage(image_only=True), EnsureChannelFirst(), ScaleIntensity()])\n",
        "\n",
        "y_pred_trans = Compose([Activations(softmax=True)])\n",
        "y_trans = Compose([AsDiscrete(to_onehot=num_class)])"
      ]
    },
    {
      "attachments": {},
      "cell_type": "markdown",
      "metadata": {
        "id": "nMzVNd6Fg7w-"
      },
      "source": [
        "## Define MONAI Dataset and Dataloader to load and process data\n",
        "\n",
        "We create separate datasets for the training, validation, and testing data. These are MONAI datastructures that automatically load and apply the appropriate transforms to the data."
      ]
    },
    {
      "cell_type": "code",
      "execution_count": 27,
      "metadata": {
        "colab": {
          "base_uri": "https://localhost:8080/"
        },
        "id": "QMb2mESzg7w-",
        "outputId": "ade4b743-0dea-45fc-8987-37050856368c"
      },
      "outputs": [
        {
          "name": "stderr",
          "output_type": "stream",
          "text": [
            "/usr/local/lib/python3.8/dist-packages/torch/utils/data/dataloader.py:554: UserWarning: This DataLoader will create 10 worker processes in total. Our suggested max number of worker in current system is 2, which is smaller than what this DataLoader is going to create. Please be aware that excessive worker creation might get DataLoader running slow or even freeze, lower the worker number to avoid potential slowness/freeze if necessary.\n",
            "  warnings.warn(_create_warning_msg(\n"
          ]
        }
      ],
      "source": [
        "class MedNISTDataset(torch.utils.data.Dataset):\n",
        "    def __init__(self, image_files, labels, transforms):\n",
        "        self.image_files = image_files\n",
        "        self.labels = labels\n",
        "        self.transforms = transforms\n",
        "\n",
        "    def __len__(self):\n",
        "        return len(self.image_files)\n",
        "\n",
        "    def __getitem__(self, index):\n",
        "        return self.transforms(self.image_files[index]), self.labels[index]\n",
        "\n",
        "\n",
        "train_ds = MedNISTDataset(train_x, train_y, train_transforms)\n",
        "train_loader = DataLoader(\n",
        "    train_ds, batch_size=300, shuffle=True, num_workers=10)\n",
        "\n",
        "val_ds = MedNISTDataset(val_x, val_y, val_transforms)\n",
        "val_loader = DataLoader(\n",
        "    val_ds, batch_size=300, num_workers=10)\n",
        "\n",
        "test_ds = MedNISTDataset(test_x, test_y, val_transforms)\n",
        "test_loader = DataLoader(\n",
        "    test_ds, batch_size=300, num_workers=10)"
      ]
    },
    {
      "cell_type": "markdown",
      "metadata": {
        "id": "cAXAgbJ2g7w-"
      },
      "source": [
        "## Define network and optimizer\n",
        "\n",
        "This sets up some parametesr which control parts of the network. Some of these will be adjusted during hyperparameter tuning when trying to fine-tune a model.\n",
        "\n",
        "1. Set learning rate which controls how much the model is updated per batch.\n",
        "1. Set total epoch number, which defines how many training iterations we will go through. As this is just a tutorial, we'll just train for 4 epochs.  \n",
        "1. Use DenseNet121 architecture from MONAI, which is a standard classification architecture, and move to GPU device. DenseNet can support both 2D and 3D classification tasks.\n",
        "1. Use Adam optimizer."
      ]
    },
    {
      "cell_type": "code",
      "execution_count": 28,
      "metadata": {
        "id": "StcvoisXg7w_"
      },
      "outputs": [],
      "source": [
        "device = torch.device(\"cuda\" if torch.cuda.is_available() else \"cpu\")\n",
        "model = DenseNet121(spatial_dims=2, in_channels=1,\n",
        "                    out_channels=num_class).to(device)\n",
        "loss_function = torch.nn.CrossEntropyLoss()\n",
        "optimizer = torch.optim.Adam(model.parameters(), 1e-5)\n",
        "max_epochs = 4\n",
        "val_interval = 1\n",
        "auc_metric = ROCAUCMetric()"
      ]
    },
    {
      "attachments": {},
      "cell_type": "markdown",
      "metadata": {
        "id": "uO4jsoY_g7w_"
      },
      "source": [
        "## Model training\n",
        "\n",
        "Execute a typical PyTorch training pipeline that does validation after every epoch.  \n",
        "Model weights are saved to a file if it is the best model so far."
      ]
    },
    {
      "cell_type": "code",
      "execution_count": 29,
      "metadata": {
        "colab": {
          "base_uri": "https://localhost:8080/"
        },
        "id": "Knc-_DOZg7w_",
        "outputId": "76703967-aaf5-4834-98c0-828242e466b9",
        "tags": []
      },
      "outputs": [
        {
          "name": "stdout",
          "output_type": "stream",
          "text": [
            "----------\n",
            "epoch 1/4\n",
            "1/157, train_loss: 1.7976\n",
            "2/157, train_loss: 1.7580\n",
            "3/157, train_loss: 1.7292\n",
            "4/157, train_loss: 1.7115\n",
            "5/157, train_loss: 1.6588\n",
            "6/157, train_loss: 1.6591\n",
            "7/157, train_loss: 1.6266\n",
            "8/157, train_loss: 1.5755\n",
            "9/157, train_loss: 1.5779\n",
            "10/157, train_loss: 1.5562\n",
            "11/157, train_loss: 1.5138\n",
            "12/157, train_loss: 1.4980\n",
            "13/157, train_loss: 1.4982\n",
            "14/157, train_loss: 1.4816\n",
            "15/157, train_loss: 1.4464\n",
            "16/157, train_loss: 1.4336\n",
            "17/157, train_loss: 1.4066\n",
            "18/157, train_loss: 1.3819\n",
            "19/157, train_loss: 1.3354\n",
            "20/157, train_loss: 1.3218\n",
            "21/157, train_loss: 1.3373\n",
            "22/157, train_loss: 1.3028\n",
            "23/157, train_loss: 1.2931\n",
            "24/157, train_loss: 1.3035\n",
            "25/157, train_loss: 1.2465\n",
            "26/157, train_loss: 1.2269\n",
            "27/157, train_loss: 1.1895\n",
            "28/157, train_loss: 1.2007\n",
            "29/157, train_loss: 1.1783\n",
            "30/157, train_loss: 1.1397\n",
            "31/157, train_loss: 1.1716\n",
            "32/157, train_loss: 1.1186\n",
            "33/157, train_loss: 1.1351\n",
            "34/157, train_loss: 1.1073\n",
            "35/157, train_loss: 1.1115\n",
            "36/157, train_loss: 1.0816\n",
            "37/157, train_loss: 1.0382\n",
            "38/157, train_loss: 1.0396\n",
            "39/157, train_loss: 1.0388\n",
            "40/157, train_loss: 0.9994\n",
            "41/157, train_loss: 1.0331\n",
            "42/157, train_loss: 0.9677\n",
            "43/157, train_loss: 1.0099\n",
            "44/157, train_loss: 0.9542\n",
            "45/157, train_loss: 0.9301\n",
            "46/157, train_loss: 0.9552\n",
            "47/157, train_loss: 0.9312\n",
            "48/157, train_loss: 0.9113\n",
            "49/157, train_loss: 0.9181\n",
            "50/157, train_loss: 0.8875\n",
            "51/157, train_loss: 0.8573\n",
            "52/157, train_loss: 0.8772\n",
            "53/157, train_loss: 0.8593\n",
            "54/157, train_loss: 0.8502\n",
            "55/157, train_loss: 0.8487\n",
            "56/157, train_loss: 0.8112\n",
            "57/157, train_loss: 0.7896\n",
            "58/157, train_loss: 0.7858\n",
            "59/157, train_loss: 0.7712\n",
            "60/157, train_loss: 0.8206\n",
            "61/157, train_loss: 0.7702\n",
            "62/157, train_loss: 0.7700\n",
            "63/157, train_loss: 0.7689\n",
            "64/157, train_loss: 0.7323\n",
            "65/157, train_loss: 0.7856\n",
            "66/157, train_loss: 0.7408\n",
            "67/157, train_loss: 0.6855\n",
            "68/157, train_loss: 0.7019\n",
            "69/157, train_loss: 0.7159\n",
            "70/157, train_loss: 0.6654\n",
            "71/157, train_loss: 0.6719\n",
            "72/157, train_loss: 0.6677\n",
            "73/157, train_loss: 0.6465\n",
            "74/157, train_loss: 0.6405\n",
            "75/157, train_loss: 0.6175\n",
            "76/157, train_loss: 0.6202\n",
            "77/157, train_loss: 0.6228\n",
            "78/157, train_loss: 0.6178\n",
            "79/157, train_loss: 0.6263\n",
            "80/157, train_loss: 0.5897\n",
            "81/157, train_loss: 0.6045\n",
            "82/157, train_loss: 0.6135\n",
            "83/157, train_loss: 0.6089\n",
            "84/157, train_loss: 0.5963\n",
            "85/157, train_loss: 0.5982\n",
            "86/157, train_loss: 0.5783\n",
            "87/157, train_loss: 0.4890\n",
            "88/157, train_loss: 0.5500\n",
            "89/157, train_loss: 0.5020\n",
            "90/157, train_loss: 0.5372\n",
            "91/157, train_loss: 0.4941\n",
            "92/157, train_loss: 0.4861\n",
            "93/157, train_loss: 0.5339\n",
            "94/157, train_loss: 0.4744\n",
            "95/157, train_loss: 0.4903\n",
            "96/157, train_loss: 0.4802\n",
            "97/157, train_loss: 0.4367\n",
            "98/157, train_loss: 0.4603\n",
            "99/157, train_loss: 0.4805\n",
            "100/157, train_loss: 0.4682\n",
            "101/157, train_loss: 0.4477\n",
            "102/157, train_loss: 0.4570\n",
            "103/157, train_loss: 0.4438\n",
            "104/157, train_loss: 0.4211\n",
            "105/157, train_loss: 0.4481\n",
            "106/157, train_loss: 0.4033\n",
            "107/157, train_loss: 0.3914\n",
            "108/157, train_loss: 0.4418\n",
            "109/157, train_loss: 0.4282\n",
            "110/157, train_loss: 0.4324\n",
            "111/157, train_loss: 0.3631\n",
            "112/157, train_loss: 0.4156\n",
            "113/157, train_loss: 0.3536\n",
            "114/157, train_loss: 0.3634\n",
            "115/157, train_loss: 0.3997\n",
            "116/157, train_loss: 0.3438\n",
            "117/157, train_loss: 0.3602\n",
            "118/157, train_loss: 0.4021\n",
            "119/157, train_loss: 0.3506\n",
            "120/157, train_loss: 0.3674\n",
            "121/157, train_loss: 0.3672\n",
            "122/157, train_loss: 0.3368\n",
            "123/157, train_loss: 0.3615\n",
            "124/157, train_loss: 0.3261\n",
            "125/157, train_loss: 0.3538\n",
            "126/157, train_loss: 0.3314\n",
            "127/157, train_loss: 0.3298\n",
            "128/157, train_loss: 0.3047\n",
            "129/157, train_loss: 0.3073\n",
            "130/157, train_loss: 0.3055\n",
            "131/157, train_loss: 0.3197\n",
            "132/157, train_loss: 0.3153\n",
            "133/157, train_loss: 0.3109\n",
            "134/157, train_loss: 0.3331\n",
            "135/157, train_loss: 0.3549\n",
            "136/157, train_loss: 0.2684\n",
            "137/157, train_loss: 0.3201\n",
            "138/157, train_loss: 0.2908\n",
            "139/157, train_loss: 0.2907\n",
            "140/157, train_loss: 0.2796\n",
            "141/157, train_loss: 0.2980\n",
            "142/157, train_loss: 0.3046\n",
            "143/157, train_loss: 0.3186\n",
            "144/157, train_loss: 0.2683\n",
            "145/157, train_loss: 0.2871\n",
            "146/157, train_loss: 0.2675\n",
            "147/157, train_loss: 0.2674\n",
            "148/157, train_loss: 0.2382\n",
            "149/157, train_loss: 0.2333\n",
            "150/157, train_loss: 0.2473\n",
            "151/157, train_loss: 0.2384\n",
            "152/157, train_loss: 0.2714\n",
            "153/157, train_loss: 0.2521\n",
            "154/157, train_loss: 0.2837\n",
            "155/157, train_loss: 0.2658\n",
            "156/157, train_loss: 0.2427\n",
            "157/157, train_loss: 0.2327\n",
            "158/157, train_loss: 0.2799\n",
            "epoch 1 average loss: 0.7302\n",
            "saved new best metric model\n",
            "current epoch: 1 current AUC: 0.9965 current accuracy: 0.9593 best AUC: 0.9965 at epoch: 1\n",
            "----------\n",
            "epoch 2/4\n",
            "1/157, train_loss: 0.2286\n",
            "2/157, train_loss: 0.2356\n",
            "3/157, train_loss: 0.2661\n",
            "4/157, train_loss: 0.2386\n",
            "5/157, train_loss: 0.2203\n",
            "6/157, train_loss: 0.2827\n",
            "7/157, train_loss: 0.2244\n",
            "8/157, train_loss: 0.2152\n",
            "9/157, train_loss: 0.2265\n",
            "10/157, train_loss: 0.2284\n",
            "11/157, train_loss: 0.2424\n",
            "12/157, train_loss: 0.2395\n",
            "13/157, train_loss: 0.2197\n",
            "14/157, train_loss: 0.2054\n",
            "15/157, train_loss: 0.2018\n",
            "16/157, train_loss: 0.2154\n",
            "17/157, train_loss: 0.2257\n",
            "18/157, train_loss: 0.1779\n",
            "19/157, train_loss: 0.2080\n",
            "20/157, train_loss: 0.1890\n",
            "21/157, train_loss: 0.2083\n",
            "22/157, train_loss: 0.2141\n",
            "23/157, train_loss: 0.2019\n",
            "24/157, train_loss: 0.1963\n",
            "25/157, train_loss: 0.1936\n",
            "26/157, train_loss: 0.2046\n",
            "27/157, train_loss: 0.1720\n",
            "28/157, train_loss: 0.1684\n",
            "29/157, train_loss: 0.1752\n",
            "30/157, train_loss: 0.1721\n",
            "31/157, train_loss: 0.2014\n",
            "32/157, train_loss: 0.1879\n",
            "33/157, train_loss: 0.1712\n",
            "34/157, train_loss: 0.2010\n",
            "35/157, train_loss: 0.2003\n",
            "36/157, train_loss: 0.2183\n",
            "37/157, train_loss: 0.1751\n",
            "38/157, train_loss: 0.1674\n",
            "39/157, train_loss: 0.1822\n",
            "40/157, train_loss: 0.2138\n",
            "41/157, train_loss: 0.1876\n",
            "42/157, train_loss: 0.1620\n",
            "43/157, train_loss: 0.1810\n",
            "44/157, train_loss: 0.1982\n",
            "45/157, train_loss: 0.1460\n",
            "46/157, train_loss: 0.1986\n",
            "47/157, train_loss: 0.1597\n",
            "48/157, train_loss: 0.1393\n",
            "49/157, train_loss: 0.1609\n",
            "50/157, train_loss: 0.1852\n",
            "51/157, train_loss: 0.1558\n",
            "52/157, train_loss: 0.2087\n",
            "53/157, train_loss: 0.1665\n",
            "54/157, train_loss: 0.1770\n",
            "55/157, train_loss: 0.1512\n",
            "56/157, train_loss: 0.1631\n",
            "57/157, train_loss: 0.1472\n",
            "58/157, train_loss: 0.1462\n",
            "59/157, train_loss: 0.1531\n",
            "60/157, train_loss: 0.1718\n",
            "61/157, train_loss: 0.1819\n",
            "62/157, train_loss: 0.1398\n",
            "63/157, train_loss: 0.1489\n",
            "64/157, train_loss: 0.1539\n",
            "65/157, train_loss: 0.1449\n",
            "66/157, train_loss: 0.1309\n",
            "67/157, train_loss: 0.1687\n",
            "68/157, train_loss: 0.1529\n",
            "69/157, train_loss: 0.1374\n",
            "70/157, train_loss: 0.1646\n",
            "71/157, train_loss: 0.1222\n",
            "72/157, train_loss: 0.1426\n",
            "73/157, train_loss: 0.1444\n",
            "74/157, train_loss: 0.1513\n",
            "75/157, train_loss: 0.1695\n",
            "76/157, train_loss: 0.1326\n",
            "77/157, train_loss: 0.1084\n",
            "78/157, train_loss: 0.1367\n",
            "79/157, train_loss: 0.1174\n",
            "80/157, train_loss: 0.1614\n",
            "81/157, train_loss: 0.1601\n",
            "82/157, train_loss: 0.1645\n",
            "83/157, train_loss: 0.1359\n",
            "84/157, train_loss: 0.1037\n",
            "85/157, train_loss: 0.1198\n",
            "86/157, train_loss: 0.1468\n",
            "87/157, train_loss: 0.1199\n",
            "88/157, train_loss: 0.1123\n",
            "89/157, train_loss: 0.1386\n",
            "90/157, train_loss: 0.1171\n",
            "91/157, train_loss: 0.1195\n",
            "92/157, train_loss: 0.1175\n",
            "93/157, train_loss: 0.1109\n",
            "94/157, train_loss: 0.1282\n",
            "95/157, train_loss: 0.1524\n",
            "96/157, train_loss: 0.1422\n",
            "97/157, train_loss: 0.1140\n",
            "98/157, train_loss: 0.0947\n",
            "99/157, train_loss: 0.1121\n",
            "100/157, train_loss: 0.0890\n",
            "101/157, train_loss: 0.1161\n",
            "102/157, train_loss: 0.1084\n",
            "103/157, train_loss: 0.1205\n",
            "104/157, train_loss: 0.1257\n",
            "105/157, train_loss: 0.0976\n",
            "106/157, train_loss: 0.1075\n",
            "107/157, train_loss: 0.1165\n",
            "108/157, train_loss: 0.1198\n",
            "109/157, train_loss: 0.0980\n",
            "110/157, train_loss: 0.0992\n",
            "111/157, train_loss: 0.1170\n",
            "112/157, train_loss: 0.1195\n",
            "113/157, train_loss: 0.1190\n",
            "114/157, train_loss: 0.1147\n",
            "115/157, train_loss: 0.1314\n",
            "116/157, train_loss: 0.0829\n",
            "117/157, train_loss: 0.0989\n",
            "118/157, train_loss: 0.1001\n",
            "119/157, train_loss: 0.1053\n",
            "120/157, train_loss: 0.0939\n",
            "121/157, train_loss: 0.1158\n",
            "122/157, train_loss: 0.1134\n",
            "123/157, train_loss: 0.1089\n",
            "124/157, train_loss: 0.0909\n",
            "125/157, train_loss: 0.0811\n",
            "126/157, train_loss: 0.0841\n",
            "127/157, train_loss: 0.0744\n",
            "128/157, train_loss: 0.0778\n",
            "129/157, train_loss: 0.1189\n",
            "130/157, train_loss: 0.1001\n",
            "131/157, train_loss: 0.0852\n",
            "132/157, train_loss: 0.0748\n",
            "133/157, train_loss: 0.1068\n",
            "134/157, train_loss: 0.1059\n",
            "135/157, train_loss: 0.0810\n",
            "136/157, train_loss: 0.0898\n",
            "137/157, train_loss: 0.0877\n",
            "138/157, train_loss: 0.1222\n",
            "139/157, train_loss: 0.1091\n",
            "140/157, train_loss: 0.1020\n",
            "141/157, train_loss: 0.1013\n",
            "142/157, train_loss: 0.1047\n",
            "143/157, train_loss: 0.0783\n",
            "144/157, train_loss: 0.0997\n",
            "145/157, train_loss: 0.0910\n",
            "146/157, train_loss: 0.0832\n",
            "147/157, train_loss: 0.0861\n",
            "148/157, train_loss: 0.0933\n",
            "149/157, train_loss: 0.0812\n",
            "150/157, train_loss: 0.1018\n",
            "151/157, train_loss: 0.1061\n",
            "152/157, train_loss: 0.1075\n",
            "153/157, train_loss: 0.0969\n",
            "154/157, train_loss: 0.0930\n",
            "155/157, train_loss: 0.0682\n",
            "156/157, train_loss: 0.1032\n",
            "157/157, train_loss: 0.0824\n",
            "158/157, train_loss: 0.1291\n",
            "epoch 2 average loss: 0.1450\n",
            "saved new best metric model\n",
            "current epoch: 2 current AUC: 0.9998 current accuracy: 0.9868 best AUC: 0.9998 at epoch: 2\n",
            "----------\n",
            "epoch 3/4\n",
            "1/157, train_loss: 0.0992\n",
            "2/157, train_loss: 0.0925\n",
            "3/157, train_loss: 0.0869\n",
            "4/157, train_loss: 0.0852\n",
            "5/157, train_loss: 0.0712\n",
            "6/157, train_loss: 0.0690\n",
            "7/157, train_loss: 0.0784\n",
            "8/157, train_loss: 0.0747\n",
            "9/157, train_loss: 0.0675\n",
            "10/157, train_loss: 0.0985\n",
            "11/157, train_loss: 0.0870\n",
            "12/157, train_loss: 0.0918\n",
            "13/157, train_loss: 0.0797\n",
            "14/157, train_loss: 0.0874\n",
            "15/157, train_loss: 0.0752\n",
            "16/157, train_loss: 0.0784\n",
            "17/157, train_loss: 0.0694\n",
            "18/157, train_loss: 0.0692\n",
            "19/157, train_loss: 0.0783\n",
            "20/157, train_loss: 0.0845\n",
            "21/157, train_loss: 0.0908\n",
            "22/157, train_loss: 0.0703\n",
            "23/157, train_loss: 0.0638\n",
            "24/157, train_loss: 0.0699\n",
            "25/157, train_loss: 0.1023\n",
            "26/157, train_loss: 0.0645\n",
            "27/157, train_loss: 0.0843\n",
            "28/157, train_loss: 0.0796\n",
            "29/157, train_loss: 0.0951\n",
            "30/157, train_loss: 0.0693\n",
            "31/157, train_loss: 0.0826\n",
            "32/157, train_loss: 0.0896\n",
            "33/157, train_loss: 0.0881\n",
            "34/157, train_loss: 0.0708\n",
            "35/157, train_loss: 0.0714\n",
            "36/157, train_loss: 0.0876\n",
            "37/157, train_loss: 0.0870\n",
            "38/157, train_loss: 0.0615\n",
            "39/157, train_loss: 0.0745\n",
            "40/157, train_loss: 0.0906\n",
            "41/157, train_loss: 0.0907\n",
            "42/157, train_loss: 0.0884\n",
            "43/157, train_loss: 0.0879\n",
            "44/157, train_loss: 0.0625\n",
            "45/157, train_loss: 0.0685\n",
            "46/157, train_loss: 0.0968\n",
            "47/157, train_loss: 0.0711\n",
            "48/157, train_loss: 0.0885\n",
            "49/157, train_loss: 0.0738\n",
            "50/157, train_loss: 0.0817\n",
            "51/157, train_loss: 0.0792\n",
            "52/157, train_loss: 0.0794\n",
            "53/157, train_loss: 0.0666\n",
            "54/157, train_loss: 0.0511\n",
            "55/157, train_loss: 0.0645\n",
            "56/157, train_loss: 0.0967\n",
            "57/157, train_loss: 0.0747\n",
            "58/157, train_loss: 0.0671\n",
            "59/157, train_loss: 0.0493\n",
            "60/157, train_loss: 0.0869\n",
            "61/157, train_loss: 0.0662\n",
            "62/157, train_loss: 0.0549\n",
            "63/157, train_loss: 0.0663\n",
            "64/157, train_loss: 0.0653\n",
            "65/157, train_loss: 0.0576\n",
            "66/157, train_loss: 0.0625\n",
            "67/157, train_loss: 0.0618\n",
            "68/157, train_loss: 0.0631\n",
            "69/157, train_loss: 0.0916\n",
            "70/157, train_loss: 0.0598\n",
            "71/157, train_loss: 0.0808\n",
            "72/157, train_loss: 0.0588\n",
            "73/157, train_loss: 0.0584\n",
            "74/157, train_loss: 0.0665\n",
            "75/157, train_loss: 0.0649\n",
            "76/157, train_loss: 0.0801\n",
            "77/157, train_loss: 0.0683\n",
            "78/157, train_loss: 0.0498\n",
            "79/157, train_loss: 0.0760\n",
            "80/157, train_loss: 0.0688\n",
            "81/157, train_loss: 0.0489\n",
            "82/157, train_loss: 0.0691\n",
            "83/157, train_loss: 0.0742\n",
            "84/157, train_loss: 0.0569\n",
            "85/157, train_loss: 0.0585\n",
            "86/157, train_loss: 0.0455\n",
            "87/157, train_loss: 0.0583\n",
            "88/157, train_loss: 0.0520\n",
            "89/157, train_loss: 0.0617\n",
            "90/157, train_loss: 0.0648\n",
            "91/157, train_loss: 0.0396\n",
            "92/157, train_loss: 0.0553\n",
            "93/157, train_loss: 0.0775\n",
            "94/157, train_loss: 0.0473\n",
            "95/157, train_loss: 0.0583\n",
            "96/157, train_loss: 0.0646\n",
            "97/157, train_loss: 0.0449\n",
            "98/157, train_loss: 0.0601\n",
            "99/157, train_loss: 0.0537\n",
            "100/157, train_loss: 0.0414\n",
            "101/157, train_loss: 0.0493\n",
            "102/157, train_loss: 0.0481\n",
            "103/157, train_loss: 0.0461\n",
            "104/157, train_loss: 0.0614\n",
            "105/157, train_loss: 0.0462\n",
            "106/157, train_loss: 0.0719\n",
            "107/157, train_loss: 0.0454\n",
            "108/157, train_loss: 0.0467\n",
            "109/157, train_loss: 0.0834\n",
            "110/157, train_loss: 0.0397\n",
            "111/157, train_loss: 0.0731\n",
            "112/157, train_loss: 0.0686\n",
            "113/157, train_loss: 0.0470\n",
            "114/157, train_loss: 0.0666\n",
            "115/157, train_loss: 0.0435\n",
            "116/157, train_loss: 0.0661\n",
            "117/157, train_loss: 0.0519\n",
            "118/157, train_loss: 0.0602\n",
            "119/157, train_loss: 0.0615\n",
            "120/157, train_loss: 0.0599\n",
            "121/157, train_loss: 0.0428\n",
            "122/157, train_loss: 0.0569\n",
            "123/157, train_loss: 0.0542\n",
            "124/157, train_loss: 0.0439\n",
            "125/157, train_loss: 0.0653\n",
            "126/157, train_loss: 0.0727\n",
            "127/157, train_loss: 0.0874\n",
            "128/157, train_loss: 0.0652\n",
            "129/157, train_loss: 0.0676\n",
            "130/157, train_loss: 0.0658\n",
            "131/157, train_loss: 0.0578\n",
            "132/157, train_loss: 0.0363\n",
            "133/157, train_loss: 0.0521\n",
            "134/157, train_loss: 0.0531\n",
            "135/157, train_loss: 0.0699\n",
            "136/157, train_loss: 0.0566\n",
            "137/157, train_loss: 0.0320\n",
            "138/157, train_loss: 0.0467\n",
            "139/157, train_loss: 0.0502\n",
            "140/157, train_loss: 0.0597\n",
            "141/157, train_loss: 0.0459\n",
            "142/157, train_loss: 0.0503\n",
            "143/157, train_loss: 0.0479\n",
            "144/157, train_loss: 0.0507\n",
            "145/157, train_loss: 0.0430\n",
            "146/157, train_loss: 0.0540\n",
            "147/157, train_loss: 0.0556\n",
            "148/157, train_loss: 0.0316\n",
            "149/157, train_loss: 0.0644\n",
            "150/157, train_loss: 0.0384\n",
            "151/157, train_loss: 0.0381\n",
            "152/157, train_loss: 0.0468\n",
            "153/157, train_loss: 0.0717\n",
            "154/157, train_loss: 0.0658\n",
            "155/157, train_loss: 0.0456\n",
            "156/157, train_loss: 0.0377\n",
            "157/157, train_loss: 0.0651\n",
            "158/157, train_loss: 0.0458\n",
            "epoch 3 average loss: 0.0656\n",
            "saved new best metric model\n",
            "current epoch: 3 current AUC: 0.9999 current accuracy: 0.9941 best AUC: 0.9999 at epoch: 3\n",
            "----------\n",
            "epoch 4/4\n",
            "1/157, train_loss: 0.0363\n",
            "2/157, train_loss: 0.0456\n",
            "3/157, train_loss: 0.0333\n",
            "4/157, train_loss: 0.0449\n",
            "5/157, train_loss: 0.0408\n",
            "6/157, train_loss: 0.0427\n",
            "7/157, train_loss: 0.0440\n",
            "8/157, train_loss: 0.0628\n",
            "9/157, train_loss: 0.0453\n",
            "10/157, train_loss: 0.0490\n",
            "11/157, train_loss: 0.0338\n",
            "12/157, train_loss: 0.0336\n",
            "13/157, train_loss: 0.0408\n",
            "14/157, train_loss: 0.0421\n",
            "15/157, train_loss: 0.0354\n",
            "16/157, train_loss: 0.0559\n",
            "17/157, train_loss: 0.0573\n",
            "18/157, train_loss: 0.0443\n",
            "19/157, train_loss: 0.0315\n",
            "20/157, train_loss: 0.0409\n",
            "21/157, train_loss: 0.0429\n",
            "22/157, train_loss: 0.0351\n",
            "23/157, train_loss: 0.0459\n",
            "24/157, train_loss: 0.0472\n",
            "25/157, train_loss: 0.0514\n",
            "26/157, train_loss: 0.0340\n",
            "27/157, train_loss: 0.0489\n",
            "28/157, train_loss: 0.0421\n",
            "29/157, train_loss: 0.0586\n",
            "30/157, train_loss: 0.0461\n",
            "31/157, train_loss: 0.0486\n",
            "32/157, train_loss: 0.0333\n",
            "33/157, train_loss: 0.0497\n",
            "34/157, train_loss: 0.0624\n",
            "35/157, train_loss: 0.0481\n",
            "36/157, train_loss: 0.0493\n",
            "37/157, train_loss: 0.0534\n",
            "38/157, train_loss: 0.0336\n",
            "39/157, train_loss: 0.0408\n",
            "40/157, train_loss: 0.0320\n",
            "41/157, train_loss: 0.0578\n",
            "42/157, train_loss: 0.0348\n",
            "43/157, train_loss: 0.0478\n",
            "44/157, train_loss: 0.0445\n",
            "45/157, train_loss: 0.0316\n",
            "46/157, train_loss: 0.0433\n",
            "47/157, train_loss: 0.0379\n",
            "48/157, train_loss: 0.0328\n",
            "49/157, train_loss: 0.0370\n",
            "50/157, train_loss: 0.0482\n",
            "51/157, train_loss: 0.0320\n",
            "52/157, train_loss: 0.0472\n",
            "53/157, train_loss: 0.0499\n",
            "54/157, train_loss: 0.0335\n",
            "55/157, train_loss: 0.0307\n",
            "56/157, train_loss: 0.0266\n",
            "57/157, train_loss: 0.0418\n",
            "58/157, train_loss: 0.0422\n",
            "59/157, train_loss: 0.0424\n",
            "60/157, train_loss: 0.0363\n",
            "61/157, train_loss: 0.0498\n",
            "62/157, train_loss: 0.0456\n",
            "63/157, train_loss: 0.0407\n",
            "64/157, train_loss: 0.0248\n",
            "65/157, train_loss: 0.0397\n",
            "66/157, train_loss: 0.0406\n",
            "67/157, train_loss: 0.0410\n",
            "68/157, train_loss: 0.0433\n",
            "69/157, train_loss: 0.0369\n",
            "70/157, train_loss: 0.0309\n",
            "71/157, train_loss: 0.0366\n",
            "72/157, train_loss: 0.0269\n",
            "73/157, train_loss: 0.0246\n",
            "74/157, train_loss: 0.0360\n",
            "75/157, train_loss: 0.0364\n",
            "76/157, train_loss: 0.0312\n",
            "77/157, train_loss: 0.0405\n",
            "78/157, train_loss: 0.0443\n",
            "79/157, train_loss: 0.0429\n",
            "80/157, train_loss: 0.0381\n",
            "81/157, train_loss: 0.0635\n",
            "82/157, train_loss: 0.0343\n",
            "83/157, train_loss: 0.0527\n",
            "84/157, train_loss: 0.0275\n",
            "85/157, train_loss: 0.0216\n",
            "86/157, train_loss: 0.0464\n",
            "87/157, train_loss: 0.0257\n",
            "88/157, train_loss: 0.0520\n",
            "89/157, train_loss: 0.0430\n",
            "90/157, train_loss: 0.0316\n",
            "91/157, train_loss: 0.0409\n",
            "92/157, train_loss: 0.0329\n",
            "93/157, train_loss: 0.0327\n",
            "94/157, train_loss: 0.0330\n",
            "95/157, train_loss: 0.0252\n",
            "96/157, train_loss: 0.0430\n",
            "97/157, train_loss: 0.0586\n",
            "98/157, train_loss: 0.0369\n",
            "99/157, train_loss: 0.0389\n",
            "100/157, train_loss: 0.0256\n",
            "101/157, train_loss: 0.0380\n",
            "102/157, train_loss: 0.0379\n",
            "103/157, train_loss: 0.0373\n",
            "104/157, train_loss: 0.0293\n",
            "105/157, train_loss: 0.0251\n",
            "106/157, train_loss: 0.0354\n",
            "107/157, train_loss: 0.0525\n",
            "108/157, train_loss: 0.0356\n",
            "109/157, train_loss: 0.0399\n",
            "110/157, train_loss: 0.0545\n",
            "111/157, train_loss: 0.0449\n",
            "112/157, train_loss: 0.0538\n",
            "113/157, train_loss: 0.0406\n",
            "114/157, train_loss: 0.0242\n",
            "115/157, train_loss: 0.0280\n",
            "116/157, train_loss: 0.0354\n",
            "117/157, train_loss: 0.0357\n",
            "118/157, train_loss: 0.0316\n",
            "119/157, train_loss: 0.0306\n",
            "120/157, train_loss: 0.0259\n",
            "121/157, train_loss: 0.0228\n",
            "122/157, train_loss: 0.0272\n",
            "123/157, train_loss: 0.0362\n",
            "124/157, train_loss: 0.0208\n",
            "125/157, train_loss: 0.0334\n",
            "126/157, train_loss: 0.0286\n",
            "127/157, train_loss: 0.0636\n",
            "128/157, train_loss: 0.0264\n",
            "129/157, train_loss: 0.0192\n",
            "130/157, train_loss: 0.0251\n",
            "131/157, train_loss: 0.0321\n",
            "132/157, train_loss: 0.0384\n",
            "133/157, train_loss: 0.0228\n",
            "134/157, train_loss: 0.0250\n",
            "135/157, train_loss: 0.0244\n",
            "136/157, train_loss: 0.0545\n",
            "137/157, train_loss: 0.0222\n",
            "138/157, train_loss: 0.0510\n",
            "139/157, train_loss: 0.0282\n",
            "140/157, train_loss: 0.0384\n",
            "141/157, train_loss: 0.0309\n",
            "142/157, train_loss: 0.0252\n",
            "143/157, train_loss: 0.0298\n",
            "144/157, train_loss: 0.0387\n",
            "145/157, train_loss: 0.0430\n",
            "146/157, train_loss: 0.0280\n",
            "147/157, train_loss: 0.0445\n",
            "148/157, train_loss: 0.0240\n",
            "149/157, train_loss: 0.0328\n",
            "150/157, train_loss: 0.0360\n",
            "151/157, train_loss: 0.0249\n",
            "152/157, train_loss: 0.0228\n",
            "153/157, train_loss: 0.0456\n",
            "154/157, train_loss: 0.0267\n",
            "155/157, train_loss: 0.0496\n",
            "156/157, train_loss: 0.0328\n",
            "157/157, train_loss: 0.0258\n",
            "158/157, train_loss: 0.0374\n",
            "epoch 4 average loss: 0.0383\n",
            "saved new best metric model\n",
            "current epoch: 4 current AUC: 1.0000 current accuracy: 0.9958 best AUC: 1.0000 at epoch: 4\n",
            "train completed, best_metric: 1.0000 at epoch: 4\n"
          ]
        }
      ],
      "source": [
        "best_metric = -1\n",
        "best_metric_epoch = -1\n",
        "epoch_loss_values = []\n",
        "metric_values = []\n",
        "\n",
        "for epoch in range(max_epochs):\n",
        "    print(\"-\" * 10)\n",
        "    print(f\"epoch {epoch + 1}/{max_epochs}\")\n",
        "    model.train()\n",
        "    epoch_loss = 0\n",
        "    step = 0\n",
        "    for batch_data in train_loader:\n",
        "        step += 1\n",
        "        inputs, labels = batch_data[0].to(device), batch_data[1].to(device)\n",
        "        optimizer.zero_grad()\n",
        "        outputs = model(inputs)\n",
        "        loss = loss_function(outputs, labels)\n",
        "        loss.backward()\n",
        "        optimizer.step()\n",
        "        epoch_loss += loss.item()\n",
        "        print(\n",
        "            f\"{step}/{len(train_ds) // train_loader.batch_size}, \"\n",
        "            f\"train_loss: {loss.item():.4f}\")\n",
        "        epoch_len = len(train_ds) // train_loader.batch_size\n",
        "    epoch_loss /= step\n",
        "    epoch_loss_values.append(epoch_loss)\n",
        "    print(f\"epoch {epoch + 1} average loss: {epoch_loss:.4f}\")\n",
        "\n",
        "    if (epoch + 1) % val_interval == 0:\n",
        "        model.eval()\n",
        "        with torch.no_grad():\n",
        "            y_pred = torch.tensor([], dtype=torch.float32, device=device)\n",
        "            y = torch.tensor([], dtype=torch.long, device=device)\n",
        "            for val_data in val_loader:\n",
        "                val_images, val_labels = (\n",
        "                    val_data[0].to(device),\n",
        "                    val_data[1].to(device),\n",
        "                )\n",
        "                y_pred = torch.cat([y_pred, model(val_images)], dim=0)\n",
        "                y = torch.cat([y, val_labels], dim=0)\n",
        "            y_onehot = [y_trans(i) for i in decollate_batch(y, detach=False)]\n",
        "            y_pred_act = [y_pred_trans(i) for i in decollate_batch(y_pred)]\n",
        "            auc_metric(y_pred_act, y_onehot)\n",
        "            result = auc_metric.aggregate()\n",
        "            auc_metric.reset()\n",
        "            del y_pred_act, y_onehot\n",
        "            metric_values.append(result)\n",
        "            acc_value = torch.eq(y_pred.argmax(dim=1), y)\n",
        "            acc_metric = acc_value.sum().item() / len(acc_value)\n",
        "            if result > best_metric:\n",
        "                best_metric = result\n",
        "                best_metric_epoch = epoch + 1\n",
        "                torch.save(model.state_dict(), os.path.join(\n",
        "                    root_dir, \"best_metric_model.pth\"))\n",
        "                print(\"saved new best metric model\")\n",
        "            print(\n",
        "                f\"current epoch: {epoch + 1} current AUC: {result:.4f}\"\n",
        "                f\" current accuracy: {acc_metric:.4f}\"\n",
        "                f\" best AUC: {best_metric:.4f}\"\n",
        "                f\" at epoch: {best_metric_epoch}\"\n",
        "            )\n",
        "\n",
        "print(\n",
        "    f\"train completed, best_metric: {best_metric:.4f} \"\n",
        "    f\"at epoch: {best_metric_epoch}\")"
      ]
    },
    {
      "cell_type": "markdown",
      "metadata": {
        "id": "1-aUBAE6g7w_"
      },
      "source": [
        "## Plot the loss and AUC metric"
      ]
    },
    {
      "cell_type": "code",
      "execution_count": 30,
      "metadata": {
        "colab": {
          "base_uri": "https://localhost:8080/",
          "height": 404
        },
        "id": "FSFpnVE8g7w_",
        "outputId": "c4877ced-325a-432c-e7f6-88fa170a21db"
      },
      "outputs": [
        {
          "data": {
            "image/png": "[encoded data removed]",
            "text/plain": [
              "<Figure size 864x432 with 2 Axes>"
            ]
          },
          "metadata": {
            "needs_background": "light"
          },
          "output_type": "display_data"
        }
      ],
      "source": [
        "plt.figure(\"train\", (12, 6))\n",
        "plt.subplot(1, 2, 1)\n",
        "plt.title(\"Epoch Average Loss\")\n",
        "x = [i + 1 for i in range(len(epoch_loss_values))]\n",
        "y = epoch_loss_values\n",
        "plt.xlabel(\"epoch\")\n",
        "plt.plot(x, y)\n",
        "plt.subplot(1, 2, 2)\n",
        "plt.title(\"Val AUC\")\n",
        "x = [val_interval * (i + 1) for i in range(len(metric_values))]\n",
        "y = metric_values\n",
        "plt.xlabel(\"epoch\")\n",
        "plt.plot(x, y)\n",
        "plt.show()"
      ]
    },
    {
      "cell_type": "markdown",
      "metadata": {
        "id": "dY3XV40Fg7w_"
      },
      "source": [
        "## Evaluate the model on test dataset\n",
        "\n",
        "After training and validation, we have the best model for the validation set.  \n",
        "We then need to evaluate the model on a separate test dataset to check whether it's robust and not over-fitting.  \n",
        "We'll use these predictions to generate a classification report."
      ]
    },
    {
      "cell_type": "code",
      "execution_count": 31,
      "metadata": {
        "id": "kUkiqEIJg7w_"
      },
      "outputs": [],
      "source": [
        "model.load_state_dict(torch.load(\n",
        "    os.path.join(root_dir, \"best_metric_model.pth\")))\n",
        "model.eval()\n",
        "y_true = []\n",
        "y_pred = []\n",
        "with torch.no_grad():\n",
        "    for test_data in test_loader:\n",
        "        test_images, test_labels = (\n",
        "            test_data[0].to(device),\n",
        "            test_data[1].to(device),\n",
        "        )\n",
        "        pred = model(test_images).argmax(dim=1)\n",
        "        for i in range(len(pred)):\n",
        "            y_true.append(test_labels[i].item())\n",
        "            y_pred.append(pred[i].item())"
      ]
    },
    {
      "cell_type": "code",
      "execution_count": 32,
      "metadata": {
        "colab": {
          "base_uri": "https://localhost:8080/"
        },
        "id": "4ErJM0AOg7xA",
        "outputId": "0c58049b-028a-4c4b-f233-1af87de43e0a",
        "tags": []
      },
      "outputs": [
        {
          "name": "stdout",
          "output_type": "stream",
          "text": [
            "              precision    recall  f1-score   support\n",
            "\n",
            "   AbdomenCT     0.9930    0.9950    0.9940       995\n",
            "   BreastMRI     0.9989    0.9920    0.9954       880\n",
            "         CXR     1.0000    0.9990    0.9995       982\n",
            "     ChestCT     0.9931    1.0000    0.9966      1014\n",
            "        Hand     0.9990    0.9952    0.9971      1048\n",
            "      HeadCT     0.9939    0.9959    0.9949       976\n",
            "\n",
            "    accuracy                         0.9963      5895\n",
            "   macro avg     0.9963    0.9962    0.9962      5895\n",
            "weighted avg     0.9963    0.9963    0.9963      5895\n",
            "\n"
          ]
        }
      ],
      "source": [
        "print(classification_report(\n",
        "    y_true, y_pred, target_names=class_names, digits=4))"
      ]
    },
    {
      "cell_type": "markdown",
      "metadata": {
        "id": "6-8jykZIg7xA"
      },
      "source": [
        "## Cleanup data directory\n",
        "\n",
        "Remove directory if a temporary was used."
      ]
    },
    {
      "cell_type": "code",
      "execution_count": 33,
      "metadata": {
        "id": "vc6oQubRg7xA"
      },
      "outputs": [],
      "source": [
        "if directory is None:\n",
        "    shutil.rmtree(root_dir)"
      ]
    }
  ],
  "metadata": {
    "accelerator": "GPU",
    "colab": {
      "provenance": []
    },
    "gpuClass": "standard",
    "kernelspec": {
      "display_name": "aws",
      "language": "python",
      "name": "python3"
    },
    "language_info": {
      "codemirror_mode": {
        "name": "ipython",
        "version": 3
      },
      "file_extension": ".py",
      "mimetype": "text/x-python",
      "name": "python",
      "nbconvert_exporter": "python",
      "pygments_lexer": "ipython3",
      "version": "3.10.4 (main, Mar 31 2022, 08:41:55) [GCC 7.5.0]"
    },
    "vscode": {
      "interpreter": {
        "hash": "345685bcd73c7f512ccc9a42b7315e1bcfba537fdbd323ade369351eaf56a479"
      }
    }
  },
  "nbformat": 4,
  "nbformat_minor": 0
}
